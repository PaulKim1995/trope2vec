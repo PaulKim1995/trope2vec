{
 "cells": [
  {
   "cell_type": "code",
   "execution_count": 30,
   "metadata": {
    "collapsed": true
   },
   "outputs": [],
   "source": [
    "import sqlite3\n",
    "import re"
   ]
  },
  {
   "cell_type": "markdown",
   "metadata": {},
   "source": [
    "# Convert a .nt file to a sqlite3 .db file with the same schema, indexed on each column and pairs of columns"
   ]
  },
  {
   "cell_type": "code",
   "execution_count": 31,
   "metadata": {
    "collapsed": true
   },
   "outputs": [],
   "source": [
    "NT_PATH = 'dbtropes.nt'\n",
    "DB_PATH = 'tropes.db'"
   ]
  },
  {
   "cell_type": "code",
   "execution_count": null,
   "metadata": {
    "collapsed": true
   },
   "outputs": [],
   "source": []
  },
  {
   "cell_type": "code",
   "execution_count": 35,
   "metadata": {
    "collapsed": true
   },
   "outputs": [],
   "source": [
    "!open ."
   ]
  },
  {
   "cell_type": "code",
   "execution_count": 32,
   "metadata": {
    "collapsed": true
   },
   "outputs": [],
   "source": [
    "conn = sqlite3.connect(DB_PATH)\n",
    "cursor = conn.cursor()"
   ]
  },
  {
   "cell_type": "code",
   "execution_count": 34,
   "metadata": {},
   "outputs": [
    {
     "ename": "KeyboardInterrupt",
     "evalue": "",
     "output_type": "error",
     "traceback": [
      "\u001b[0;31m---------------------------------------------------------------------------\u001b[0m",
      "\u001b[0;31mOperationalError\u001b[0m                          Traceback (most recent call last)",
      "\u001b[0;32m<ipython-input-34-149ad1bc7fa9>\u001b[0m in \u001b[0;36m<module>\u001b[0;34m()\u001b[0m\n\u001b[1;32m      1\u001b[0m \u001b[0;32mtry\u001b[0m\u001b[0;34m:\u001b[0m\u001b[0;34m\u001b[0m\u001b[0m\n\u001b[0;32m----> 2\u001b[0;31m     \u001b[0mconn\u001b[0m\u001b[0;34m.\u001b[0m\u001b[0mexecute\u001b[0m\u001b[0;34m(\u001b[0m\u001b[0;34m'DROP TABLE triples'\u001b[0m\u001b[0;34m)\u001b[0m\u001b[0;34m\u001b[0m\u001b[0m\n\u001b[0m\u001b[1;32m      3\u001b[0m \u001b[0;32mexcept\u001b[0m \u001b[0mException\u001b[0m\u001b[0;34m:\u001b[0m\u001b[0;34m\u001b[0m\u001b[0m\n",
      "\u001b[0;31mOperationalError\u001b[0m: database is locked",
      "\nDuring handling of the above exception, another exception occurred:\n",
      "\u001b[0;31mKeyboardInterrupt\u001b[0m                         Traceback (most recent call last)",
      "\u001b[0;32m<ipython-input-34-149ad1bc7fa9>\u001b[0m in \u001b[0;36m<module>\u001b[0;34m()\u001b[0m\n\u001b[1;32m      1\u001b[0m \u001b[0;32mtry\u001b[0m\u001b[0;34m:\u001b[0m\u001b[0;34m\u001b[0m\u001b[0m\n\u001b[0;32m----> 2\u001b[0;31m     \u001b[0mconn\u001b[0m\u001b[0;34m.\u001b[0m\u001b[0mexecute\u001b[0m\u001b[0;34m(\u001b[0m\u001b[0;34m'DROP TABLE triples'\u001b[0m\u001b[0;34m)\u001b[0m\u001b[0;34m\u001b[0m\u001b[0m\n\u001b[0m\u001b[1;32m      3\u001b[0m \u001b[0;32mexcept\u001b[0m \u001b[0mException\u001b[0m\u001b[0;34m:\u001b[0m\u001b[0;34m\u001b[0m\u001b[0m\n\u001b[1;32m      4\u001b[0m     \u001b[0;32mpass\u001b[0m\u001b[0;34m\u001b[0m\u001b[0m\n\u001b[1;32m      5\u001b[0m \u001b[0mconn\u001b[0m\u001b[0;34m.\u001b[0m\u001b[0mexecute\u001b[0m\u001b[0;34m(\u001b[0m\u001b[0;34m'CREATE TABLE TRIPLES (s, p, o)'\u001b[0m\u001b[0;34m)\u001b[0m\u001b[0;34m\u001b[0m\u001b[0m\n",
      "\u001b[0;31mKeyboardInterrupt\u001b[0m: "
     ]
    }
   ],
   "source": [
    "try:\n",
    "    conn.execute('DROP TABLE triples')\n",
    "except Exception:\n",
    "    pass\n",
    "conn.execute('CREATE TABLE TRIPLES (s, p, o)')\n",
    "conn.commit()"
   ]
  },
  {
   "cell_type": "code",
   "execution_count": null,
   "metadata": {},
   "outputs": [],
   "source": [
    "with open(NT_PATH) as f:\n",
    "    count = 0\n",
    "    for line in f:\n",
    "        # progress check\n",
    "        if count % 10000 == 0:\n",
    "            print(count)\n",
    "        splits = re.split('<(http://(?:\\S*)(?:/\\S*)+)>', line[:-3])\n",
    "        try:\n",
    "            l = [splits[1], splits[3], splits[5]]\n",
    "        except IndexError:\n",
    "            l = [splits[1], splits[3], splits[4]]\n",
    "        try:\n",
    "            cursor.execute('INSERT INTO triples VALUES (?, ?, ?)', l)\n",
    "        except ProgrammingError:\n",
    "            print('>>>>>>' + line)\n",
    "            print(l)\n",
    "        count += 1\n",
    "conn.commit()"
   ]
  },
  {
   "cell_type": "code",
   "execution_count": 9,
   "metadata": {
    "collapsed": true
   },
   "outputs": [],
   "source": [
    "conn.execute('CREATE INDEX s ON triples (s)')  # can group by entity (title, trope, actor, etc)\n",
    "conn.execute('CREATE INDEX p ON triples (p)')  # can group by predicate\n",
    "conn.execute('CREATE INDEX o ON triples (o)')  # can group by object (trope, subcategory, etc)\n",
    "conn.execute('CREATE INDEX so ON triples (s, o)')  # where s = x and o = y\n",
    "conn.execute('CREATE INDEX sp ON triples (s, p)')  # where s = x and p = y\n",
    "conn.execute('CREATE INDEX po ON triples (p, o)')  # where p = x and o = y\n",
    "conn.commit()"
   ]
  },
  {
   "cell_type": "code",
   "execution_count": 12,
   "metadata": {},
   "outputs": [
    {
     "data": {
      "text/plain": [
       "[(' ',),\n",
       " (' ',),\n",
       " (' ',),\n",
       " (' ',),\n",
       " (' ',),\n",
       " (' ',),\n",
       " (' ',),\n",
       " (' ',),\n",
       " (' ',),\n",
       " (' ',),\n",
       " (' ',),\n",
       " (' ',),\n",
       " (' ',),\n",
       " (' ',),\n",
       " (' ',),\n",
       " (' ',),\n",
       " (' ',),\n",
       " (' ',),\n",
       " (' ',),\n",
       " (' ',),\n",
       " (' ',),\n",
       " (' ',),\n",
       " (' ',),\n",
       " (' ',),\n",
       " (' ',),\n",
       " (' ',),\n",
       " (' ',),\n",
       " (' ',),\n",
       " (' ',),\n",
       " (' ',),\n",
       " (' ',),\n",
       " (' ',),\n",
       " (' ',),\n",
       " (' ',),\n",
       " (' ',),\n",
       " (' ',),\n",
       " (' ',),\n",
       " (' ',),\n",
       " (' ',),\n",
       " (' ',),\n",
       " (' ',),\n",
       " (' ',),\n",
       " (' ',),\n",
       " (' ',),\n",
       " (' ',),\n",
       " (' ',),\n",
       " (' ',),\n",
       " (' ',),\n",
       " (' ',),\n",
       " (' ',),\n",
       " (' ',),\n",
       " (' ',),\n",
       " (' ',),\n",
       " (' ',),\n",
       " (' ',),\n",
       " (' ',),\n",
       " (' ',),\n",
       " (' ',),\n",
       " (' ',),\n",
       " (' ',),\n",
       " (' ',),\n",
       " (' ',),\n",
       " (' ',),\n",
       " (' ',),\n",
       " (' ',),\n",
       " (' ',),\n",
       " (' ',),\n",
       " (' ',),\n",
       " (' ',),\n",
       " (' ',),\n",
       " (' ',),\n",
       " (' ',),\n",
       " (' ',),\n",
       " (' ',),\n",
       " (' ',),\n",
       " (' ',),\n",
       " (' ',),\n",
       " (' ',),\n",
       " (' ',),\n",
       " (' ',),\n",
       " (' ',),\n",
       " (' ',),\n",
       " (' ',),\n",
       " (' ',),\n",
       " (' ',),\n",
       " (' ',),\n",
       " (' ',),\n",
       " (' ',),\n",
       " (' ',),\n",
       " (' ',),\n",
       " (' ',),\n",
       " (' ',),\n",
       " (' ',),\n",
       " (' ',),\n",
       " (' ',),\n",
       " (' ',),\n",
       " (' ',),\n",
       " (' ',),\n",
       " (' ',),\n",
       " (' ',)]"
      ]
     },
     "execution_count": 12,
     "metadata": {},
     "output_type": "execute_result"
    }
   ],
   "source": [
    "q = 'SELECT * from triples LIMIT 100'\n",
    "[x for x in conn.execute('SELECT o from triples WHERE p = \"http://skipforward.net/skipforward/resource/seeder/skipinions/hasFeature\" LIMIT 100')]"
   ]
  }
 ],
 "metadata": {
  "kernelspec": {
   "display_name": "Python 3",
   "language": "python",
   "name": "python3"
  },
  "language_info": {
   "codemirror_mode": {
    "name": "ipython",
    "version": 3
   },
   "file_extension": ".py",
   "mimetype": "text/x-python",
   "name": "python",
   "nbconvert_exporter": "python",
   "pygments_lexer": "ipython3",
   "version": "3.6.1"
  }
 },
 "nbformat": 4,
 "nbformat_minor": 2
}
